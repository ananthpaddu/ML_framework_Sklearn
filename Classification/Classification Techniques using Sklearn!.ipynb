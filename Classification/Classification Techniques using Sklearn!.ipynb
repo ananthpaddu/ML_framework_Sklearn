{
 "cells": [
  {
   "cell_type": "markdown",
   "metadata": {},
   "source": [
    "# In this python notebook, we will be checking out various classification techniques. \n",
    "\n",
    "* ### Problem Statement:\n",
    "\n",
    "The latest United States presidential election among candidates Donald Trump and Hillary Clinton was a contentious one. Regardless of your political beliefs both parties reported to use analytics to help guide their decision-making, such as where to campaign, etc. The company which is not disclosed was working with a political organization to help them predict the probability that a particular person would register as a Democrat. The data description below shows the 3 tables provided and what is measured. \n",
    "\n",
    "### Data Description:\n",
    "*\tindividual_data: contain Individual-level data on each person’s age, race, gender, voting history, party registration, and education. Each person has a unique person_id and also a household ID (hh_id) that indicates the household they belong to.\n",
    "*\thousehold_data: contains household-level demographics where each household has an income, indicator for whether the house is in an urban or rural area, whether the home is owned by the household and whether the household is in a census tract that is in the top, bottom, or middle third of household income\n",
    "*\tregistration_status: contains whether the person is registered as a Democrat (is_registered_democrat). Note: 1 = Yes, 0 = Unregistered or in another party, Missing = unknown\n",
    "\n"
   ]
  },
  {
   "cell_type": "markdown",
   "metadata": {},
   "source": [
    "# Importing Required Libraries"
   ]
  },
  {
   "cell_type": "code",
   "execution_count": 1,
   "metadata": {},
   "outputs": [],
   "source": [
    "import pandas as pd\n",
    "import numpy as np"
   ]
  },
  {
   "cell_type": "markdown",
   "metadata": {},
   "source": [
    "# Data Pre-processing"
   ]
  },
  {
   "cell_type": "code",
   "execution_count": 2,
   "metadata": {},
   "outputs": [],
   "source": [
    "individual=pd.read_csv('individual_data.csv')\n",
    "registration=pd.read_csv('registration_status.csv',sep='|')\n",
    "household=pd.read_csv('household_data.csv')"
   ]
  },
  {
   "cell_type": "code",
   "execution_count": 3,
   "metadata": {},
   "outputs": [
    {
     "data": {
      "text/html": [
       "<div>\n",
       "<style scoped>\n",
       "    .dataframe tbody tr th:only-of-type {\n",
       "        vertical-align: middle;\n",
       "    }\n",
       "\n",
       "    .dataframe tbody tr th {\n",
       "        vertical-align: top;\n",
       "    }\n",
       "\n",
       "    .dataframe thead th {\n",
       "        text-align: right;\n",
       "    }\n",
       "</style>\n",
       "<table border=\"1\" class=\"dataframe\">\n",
       "  <thead>\n",
       "    <tr style=\"text-align: right;\">\n",
       "      <th></th>\n",
       "      <th>hh_id</th>\n",
       "      <th>person_id</th>\n",
       "      <th>is_head_of_household</th>\n",
       "      <th>married</th>\n",
       "      <th>gender</th>\n",
       "      <th>race</th>\n",
       "      <th>age</th>\n",
       "      <th>voted_in_2012</th>\n",
       "      <th>is_college_graduate</th>\n",
       "    </tr>\n",
       "  </thead>\n",
       "  <tbody>\n",
       "    <tr>\n",
       "      <th>0</th>\n",
       "      <td>1</td>\n",
       "      <td>1</td>\n",
       "      <td>1</td>\n",
       "      <td>Single</td>\n",
       "      <td>Female</td>\n",
       "      <td>White</td>\n",
       "      <td>28</td>\n",
       "      <td>0</td>\n",
       "      <td>1</td>\n",
       "    </tr>\n",
       "    <tr>\n",
       "      <th>1</th>\n",
       "      <td>1</td>\n",
       "      <td>2</td>\n",
       "      <td>0</td>\n",
       "      <td>Single</td>\n",
       "      <td>Male</td>\n",
       "      <td>White</td>\n",
       "      <td>27</td>\n",
       "      <td>1</td>\n",
       "      <td>1</td>\n",
       "    </tr>\n",
       "    <tr>\n",
       "      <th>2</th>\n",
       "      <td>2</td>\n",
       "      <td>3</td>\n",
       "      <td>1</td>\n",
       "      <td>Married</td>\n",
       "      <td>Female</td>\n",
       "      <td>White</td>\n",
       "      <td>34</td>\n",
       "      <td>0</td>\n",
       "      <td>1</td>\n",
       "    </tr>\n",
       "    <tr>\n",
       "      <th>3</th>\n",
       "      <td>2</td>\n",
       "      <td>4</td>\n",
       "      <td>0</td>\n",
       "      <td>Married</td>\n",
       "      <td>Male</td>\n",
       "      <td>White</td>\n",
       "      <td>33</td>\n",
       "      <td>1</td>\n",
       "      <td>0</td>\n",
       "    </tr>\n",
       "    <tr>\n",
       "      <th>4</th>\n",
       "      <td>2</td>\n",
       "      <td>5</td>\n",
       "      <td>0</td>\n",
       "      <td>Single</td>\n",
       "      <td>Male</td>\n",
       "      <td>White</td>\n",
       "      <td>6</td>\n",
       "      <td>0</td>\n",
       "      <td>1</td>\n",
       "    </tr>\n",
       "  </tbody>\n",
       "</table>\n",
       "</div>"
      ],
      "text/plain": [
       "   hh_id  person_id  is_head_of_household  married  gender   race  age  \\\n",
       "0      1          1                     1   Single  Female  White   28   \n",
       "1      1          2                     0   Single    Male  White   27   \n",
       "2      2          3                     1  Married  Female  White   34   \n",
       "3      2          4                     0  Married    Male  White   33   \n",
       "4      2          5                     0   Single    Male  White    6   \n",
       "\n",
       "   voted_in_2012  is_college_graduate  \n",
       "0              0                    1  \n",
       "1              1                    1  \n",
       "2              0                    1  \n",
       "3              1                    0  \n",
       "4              0                    1  "
      ]
     },
     "execution_count": 3,
     "metadata": {},
     "output_type": "execute_result"
    }
   ],
   "source": [
    "# Visualising Data\n",
    "individual.head()"
   ]
  },
  {
   "cell_type": "code",
   "execution_count": 4,
   "metadata": {},
   "outputs": [
    {
     "data": {
      "text/html": [
       "<div>\n",
       "<style scoped>\n",
       "    .dataframe tbody tr th:only-of-type {\n",
       "        vertical-align: middle;\n",
       "    }\n",
       "\n",
       "    .dataframe tbody tr th {\n",
       "        vertical-align: top;\n",
       "    }\n",
       "\n",
       "    .dataframe thead th {\n",
       "        text-align: right;\n",
       "    }\n",
       "</style>\n",
       "<table border=\"1\" class=\"dataframe\">\n",
       "  <thead>\n",
       "    <tr style=\"text-align: right;\">\n",
       "      <th></th>\n",
       "      <th>person_id</th>\n",
       "      <th>is_registered_democrat</th>\n",
       "    </tr>\n",
       "  </thead>\n",
       "  <tbody>\n",
       "    <tr>\n",
       "      <th>0</th>\n",
       "      <td>1</td>\n",
       "      <td>0.0</td>\n",
       "    </tr>\n",
       "    <tr>\n",
       "      <th>1</th>\n",
       "      <td>2</td>\n",
       "      <td>0.0</td>\n",
       "    </tr>\n",
       "    <tr>\n",
       "      <th>2</th>\n",
       "      <td>3</td>\n",
       "      <td>0.0</td>\n",
       "    </tr>\n",
       "    <tr>\n",
       "      <th>3</th>\n",
       "      <td>4</td>\n",
       "      <td>1.0</td>\n",
       "    </tr>\n",
       "    <tr>\n",
       "      <th>4</th>\n",
       "      <td>5</td>\n",
       "      <td>0.0</td>\n",
       "    </tr>\n",
       "  </tbody>\n",
       "</table>\n",
       "</div>"
      ],
      "text/plain": [
       "   person_id  is_registered_democrat\n",
       "0          1                     0.0\n",
       "1          2                     0.0\n",
       "2          3                     0.0\n",
       "3          4                     1.0\n",
       "4          5                     0.0"
      ]
     },
     "execution_count": 4,
     "metadata": {},
     "output_type": "execute_result"
    }
   ],
   "source": [
    "registration.head()"
   ]
  },
  {
   "cell_type": "code",
   "execution_count": 5,
   "metadata": {},
   "outputs": [
    {
     "data": {
      "text/html": [
       "<div>\n",
       "<style scoped>\n",
       "    .dataframe tbody tr th:only-of-type {\n",
       "        vertical-align: middle;\n",
       "    }\n",
       "\n",
       "    .dataframe tbody tr th {\n",
       "        vertical-align: top;\n",
       "    }\n",
       "\n",
       "    .dataframe thead th {\n",
       "        text-align: right;\n",
       "    }\n",
       "</style>\n",
       "<table border=\"1\" class=\"dataframe\">\n",
       "  <thead>\n",
       "    <tr style=\"text-align: right;\">\n",
       "      <th></th>\n",
       "      <th>hh_id</th>\n",
       "      <th>hh_income</th>\n",
       "      <th>is_urban</th>\n",
       "      <th>is_owner_of_home</th>\n",
       "      <th>tercile_of_census_tract_income</th>\n",
       "    </tr>\n",
       "  </thead>\n",
       "  <tbody>\n",
       "    <tr>\n",
       "      <th>0</th>\n",
       "      <td>1</td>\n",
       "      <td>111000</td>\n",
       "      <td>1</td>\n",
       "      <td>0</td>\n",
       "      <td>Middle</td>\n",
       "    </tr>\n",
       "    <tr>\n",
       "      <th>1</th>\n",
       "      <td>2</td>\n",
       "      <td>123000</td>\n",
       "      <td>1</td>\n",
       "      <td>1</td>\n",
       "      <td>Bottom</td>\n",
       "    </tr>\n",
       "    <tr>\n",
       "      <th>2</th>\n",
       "      <td>3</td>\n",
       "      <td>105400</td>\n",
       "      <td>1</td>\n",
       "      <td>0</td>\n",
       "      <td>Middle</td>\n",
       "    </tr>\n",
       "    <tr>\n",
       "      <th>3</th>\n",
       "      <td>4</td>\n",
       "      <td>48100</td>\n",
       "      <td>1</td>\n",
       "      <td>0</td>\n",
       "      <td>Top</td>\n",
       "    </tr>\n",
       "    <tr>\n",
       "      <th>4</th>\n",
       "      <td>5</td>\n",
       "      <td>54600</td>\n",
       "      <td>0</td>\n",
       "      <td>0</td>\n",
       "      <td>Top</td>\n",
       "    </tr>\n",
       "  </tbody>\n",
       "</table>\n",
       "</div>"
      ],
      "text/plain": [
       "   hh_id  hh_income  is_urban  is_owner_of_home tercile_of_census_tract_income\n",
       "0      1     111000         1                 0                         Middle\n",
       "1      2     123000         1                 1                         Bottom\n",
       "2      3     105400         1                 0                         Middle\n",
       "3      4      48100         1                 0                            Top\n",
       "4      5      54600         0                 0                            Top"
      ]
     },
     "execution_count": 5,
     "metadata": {},
     "output_type": "execute_result"
    }
   ],
   "source": [
    "household.head()"
   ]
  },
  {
   "cell_type": "code",
   "execution_count": 6,
   "metadata": {},
   "outputs": [],
   "source": [
    "# Get unique values\n",
    "def unique_val(data):\n",
    "    for i in data.columns:\n",
    "        print('unique values for column ',i,':',len(data[i].unique()))\n",
    "    "
   ]
  },
  {
   "cell_type": "code",
   "execution_count": 7,
   "metadata": {},
   "outputs": [
    {
     "name": "stdout",
     "output_type": "stream",
     "text": [
      "-------Individual-------\n",
      "unique values for column  hh_id : 10000\n",
      "unique values for column  person_id : 21046\n",
      "unique values for column  is_head_of_household : 2\n",
      "unique values for column  married : 2\n",
      "unique values for column  gender : 6\n",
      "unique values for column  race : 3\n",
      "unique values for column  age : 16\n",
      "unique values for column  voted_in_2012 : 2\n",
      "unique values for column  is_college_graduate : 2\n",
      "------Household------\n",
      "unique values for column  hh_id : 10000\n",
      "unique values for column  hh_income : 581\n",
      "unique values for column  is_urban : 2\n",
      "unique values for column  is_owner_of_home : 2\n",
      "unique values for column  tercile_of_census_tract_income : 3\n",
      "--------Registration-------\n",
      "unique values for column  person_id : 10537\n",
      "unique values for column  is_registered_democrat : 3\n"
     ]
    }
   ],
   "source": [
    "#Table individual\n",
    "print('-------Individual-------')\n",
    "unique_val(individual)\n",
    "print('------Household------')\n",
    "# Table Household\n",
    "unique_val(household)\n",
    "#Table registration\n",
    "print('--------Registration-------')\n",
    "unique_val(registration)\n"
   ]
  },
  {
   "cell_type": "code",
   "execution_count": 8,
   "metadata": {},
   "outputs": [],
   "source": [
    "#Function to Get Null values of each column of a table \n",
    "def Null_perc(data):\n",
    "    for i in data.columns:\n",
    "        print('---------',i,'-------------')\n",
    "        print('Percentage of null values for column:',i,': ',(sum(pd.Series(data[i].isnull()))/len(data[i]))* 100 )\n",
    "        print('Number of null values for column:',i,':',sum(pd.Series(data[i].isnull())))"
   ]
  },
  {
   "cell_type": "code",
   "execution_count": 9,
   "metadata": {},
   "outputs": [
    {
     "name": "stdout",
     "output_type": "stream",
     "text": [
      "###### Household ######\n",
      "--------- hh_id -------------\n",
      "Percentage of null values for column: hh_id :  0.0\n",
      "Number of null values for column: hh_id : 0\n",
      "--------- hh_income -------------\n",
      "Percentage of null values for column: hh_income :  0.0\n",
      "Number of null values for column: hh_income : 0\n",
      "--------- is_urban -------------\n",
      "Percentage of null values for column: is_urban :  0.0\n",
      "Number of null values for column: is_urban : 0\n",
      "--------- is_owner_of_home -------------\n",
      "Percentage of null values for column: is_owner_of_home :  0.0\n",
      "Number of null values for column: is_owner_of_home : 0\n",
      "--------- tercile_of_census_tract_income -------------\n",
      "Percentage of null values for column: tercile_of_census_tract_income :  0.0\n",
      "Number of null values for column: tercile_of_census_tract_income : 0\n",
      "\n",
      "\n",
      " ###### Individual ######\n",
      "--------- hh_id -------------\n",
      "Percentage of null values for column: hh_id :  0.0\n",
      "Number of null values for column: hh_id : 0\n",
      "--------- person_id -------------\n",
      "Percentage of null values for column: person_id :  0.0\n",
      "Number of null values for column: person_id : 0\n",
      "--------- is_head_of_household -------------\n",
      "Percentage of null values for column: is_head_of_household :  0.0\n",
      "Number of null values for column: is_head_of_household : 0\n",
      "--------- married -------------\n",
      "Percentage of null values for column: married :  0.0\n",
      "Number of null values for column: married : 0\n",
      "--------- gender -------------\n",
      "Percentage of null values for column: gender :  0.0\n",
      "Number of null values for column: gender : 0\n",
      "--------- race -------------\n",
      "Percentage of null values for column: race :  0.0\n",
      "Number of null values for column: race : 0\n",
      "--------- age -------------\n",
      "Percentage of null values for column: age :  0.0\n",
      "Number of null values for column: age : 0\n",
      "--------- voted_in_2012 -------------\n",
      "Percentage of null values for column: voted_in_2012 :  0.0\n",
      "Number of null values for column: voted_in_2012 : 0\n",
      "--------- is_college_graduate -------------\n",
      "Percentage of null values for column: is_college_graduate :  0.0\n",
      "Number of null values for column: is_college_graduate : 0\n",
      "\n",
      "\n",
      " ###### Registration ######\n",
      "--------- person_id -------------\n",
      "Percentage of null values for column: person_id :  0.0\n",
      "Number of null values for column: person_id : 0\n",
      "--------- is_registered_democrat -------------\n",
      "Percentage of null values for column: is_registered_democrat :  9.490367277213627\n",
      "Number of null values for column: is_registered_democrat : 1000\n"
     ]
    }
   ],
   "source": [
    "# Checking Null Values:\n",
    "print('###### Household ######')\n",
    "Null_perc(household)\n",
    "print('\\n\\n ###### Individual ######')\n",
    "Null_perc(individual)\n",
    "print('\\n\\n ###### Registration ######')\n",
    "Null_perc(registration)"
   ]
  },
  {
   "cell_type": "code",
   "execution_count": 10,
   "metadata": {},
   "outputs": [],
   "source": [
    "# Removing columns with null data\n",
    "Null_registration=registration[registration.is_registered_democrat.isnull()]\n",
    "registration=registration[registration.is_registered_democrat.isnull()==False]"
   ]
  },
  {
   "cell_type": "code",
   "execution_count": 11,
   "metadata": {},
   "outputs": [
    {
     "name": "stdout",
     "output_type": "stream",
     "text": [
      "--------- person_id -------------\n",
      "Percentage of null values for column: person_id :  0.0\n",
      "Number of null values for column: person_id : 0\n",
      "--------- is_registered_democrat -------------\n",
      "Percentage of null values for column: is_registered_democrat :  0.0\n",
      "Number of null values for column: is_registered_democrat : 0\n"
     ]
    }
   ],
   "source": [
    "#Checking data again\n",
    "Null_perc(registration)"
   ]
  },
  {
   "cell_type": "code",
   "execution_count": 12,
   "metadata": {},
   "outputs": [],
   "source": [
    "# We can now join the datasets \n",
    "demographics=individual.merge(household,left_on='hh_id',right_on='hh_id',how='left')"
   ]
  },
  {
   "cell_type": "code",
   "execution_count": 13,
   "metadata": {},
   "outputs": [],
   "source": [
    "# After merging, we only have around 9500 rows\n",
    "demographics=demographics.merge(registration,left_on='person_id',right_on='person_id',how='inner')"
   ]
  },
  {
   "cell_type": "code",
   "execution_count": 14,
   "metadata": {},
   "outputs": [
    {
     "name": "stdout",
     "output_type": "stream",
     "text": [
      "--------- hh_id -------------\n",
      "Percentage of null values for column: hh_id :  0.0\n",
      "Number of null values for column: hh_id : 0\n",
      "--------- person_id -------------\n",
      "Percentage of null values for column: person_id :  0.0\n",
      "Number of null values for column: person_id : 0\n",
      "--------- is_head_of_household -------------\n",
      "Percentage of null values for column: is_head_of_household :  0.0\n",
      "Number of null values for column: is_head_of_household : 0\n",
      "--------- married -------------\n",
      "Percentage of null values for column: married :  0.0\n",
      "Number of null values for column: married : 0\n",
      "--------- gender -------------\n",
      "Percentage of null values for column: gender :  0.0\n",
      "Number of null values for column: gender : 0\n",
      "--------- race -------------\n",
      "Percentage of null values for column: race :  0.0\n",
      "Number of null values for column: race : 0\n",
      "--------- age -------------\n",
      "Percentage of null values for column: age :  0.0\n",
      "Number of null values for column: age : 0\n",
      "--------- voted_in_2012 -------------\n",
      "Percentage of null values for column: voted_in_2012 :  0.0\n",
      "Number of null values for column: voted_in_2012 : 0\n",
      "--------- is_college_graduate -------------\n",
      "Percentage of null values for column: is_college_graduate :  0.0\n",
      "Number of null values for column: is_college_graduate : 0\n",
      "--------- hh_income -------------\n",
      "Percentage of null values for column: hh_income :  0.0\n",
      "Number of null values for column: hh_income : 0\n",
      "--------- is_urban -------------\n",
      "Percentage of null values for column: is_urban :  0.0\n",
      "Number of null values for column: is_urban : 0\n",
      "--------- is_owner_of_home -------------\n",
      "Percentage of null values for column: is_owner_of_home :  0.0\n",
      "Number of null values for column: is_owner_of_home : 0\n",
      "--------- tercile_of_census_tract_income -------------\n",
      "Percentage of null values for column: tercile_of_census_tract_income :  0.0\n",
      "Number of null values for column: tercile_of_census_tract_income : 0\n",
      "--------- is_registered_democrat -------------\n",
      "Percentage of null values for column: is_registered_democrat :  0.0\n",
      "Number of null values for column: is_registered_democrat : 0\n"
     ]
    }
   ],
   "source": [
    "#Checking fro Nulls\n",
    "Null_perc(demographics)"
   ]
  },
  {
   "cell_type": "code",
   "execution_count": 15,
   "metadata": {},
   "outputs": [
    {
     "name": "stdout",
     "output_type": "stream",
     "text": [
      "unique values for column  hh_id : 4531\n",
      "unique values for column  person_id : 9537\n",
      "unique values for column  is_head_of_household : 2\n",
      "unique values for column  married : 2\n",
      "unique values for column  gender : 6\n",
      "unique values for column  race : 3\n",
      "unique values for column  age : 16\n",
      "unique values for column  voted_in_2012 : 2\n",
      "unique values for column  is_college_graduate : 2\n",
      "unique values for column  hh_income : 525\n",
      "unique values for column  is_urban : 2\n",
      "unique values for column  is_owner_of_home : 2\n",
      "unique values for column  tercile_of_census_tract_income : 3\n",
      "unique values for column  is_registered_democrat : 2\n"
     ]
    }
   ],
   "source": [
    "unique_val(demographics)"
   ]
  },
  {
   "cell_type": "code",
   "execution_count": 16,
   "metadata": {},
   "outputs": [
    {
     "name": "stdout",
     "output_type": "stream",
     "text": [
      "['Female' 'Male' 'FEMALE' 'F' 'MALE' 'M']\n",
      "['Female' 'Male']\n"
     ]
    }
   ],
   "source": [
    "# We see that there are 6 unique values of gender. Hmm Something fishy!\n",
    "print(demographics.gender.unique())\n",
    "# Hmm gotcha! lets make these consistent\n",
    "demographics.gender=demographics.gender.replace('F','Female')\n",
    "demographics.gender=demographics.gender.replace('M','Male')\n",
    "demographics.gender=demographics.gender.replace('MALE','Male')\n",
    "demographics.gender=demographics.gender.replace('FEMALE','Female')\n",
    "print(demographics.gender.unique())"
   ]
  },
  {
   "cell_type": "code",
   "execution_count": 17,
   "metadata": {},
   "outputs": [],
   "source": [
    "# Generating a new feature: in_av_income: individual average income-> average income per person in the household\n",
    "hh_member_count=demographics.groupby('hh_id')['hh_income'].count().reset_index()\n",
    "hh_member_count.columns=['hh_id','hh_members']\n",
    "demographics=demographics.merge(hh_member_count,left_on='hh_id',right_on='hh_id',how='left')\n",
    "demographics['av_income']=demographics.hh_income/demographics.hh_members\n",
    "demographics=demographics.drop('hh_members',axis=1)"
   ]
  },
  {
   "cell_type": "markdown",
   "metadata": {},
   "source": [
    "# Making dummy variables"
   ]
  },
  {
   "cell_type": "code",
   "execution_count": 18,
   "metadata": {},
   "outputs": [],
   "source": [
    "#Dummies for gender\n",
    "gender=pd.get_dummies(demographics.gender)\n",
    "# Keeping only one column\n",
    "gender=pd.DataFrame(gender[gender.columns[0]])\n",
    "demographics = pd.concat([demographics, gender], axis=1)\n",
    "demographics=demographics.drop('gender',axis=1)"
   ]
  },
  {
   "cell_type": "code",
   "execution_count": 19,
   "metadata": {},
   "outputs": [],
   "source": [
    "#Dummies for married\n",
    "married=pd.get_dummies(demographics.married)\n",
    "#Keeping only one column\n",
    "married=pd.DataFrame(married[married.columns[0]])\n",
    "demographics = pd.concat([demographics, married], axis=1)\n",
    "demographics=demographics.drop('married',axis=1)"
   ]
  },
  {
   "cell_type": "code",
   "execution_count": 20,
   "metadata": {},
   "outputs": [],
   "source": [
    "# Dummies for Race\n",
    "race=pd.get_dummies(demographics.race)\n",
    "race=race[[race.columns[0],race.columns[1]]]\n",
    "demographics = pd.concat([demographics, race], axis=1)\n",
    "demographics=demographics.drop('race',axis=1)"
   ]
  },
  {
   "cell_type": "code",
   "execution_count": 21,
   "metadata": {},
   "outputs": [],
   "source": [
    "# Dummies for census_tract_income\n",
    "income=pd.get_dummies(demographics.tercile_of_census_tract_income)\n",
    "income=income[[income.columns[0],income.columns[1]]]\n",
    "demographics = pd.concat([demographics, income], axis=1)\n",
    "demographics=demographics.drop('tercile_of_census_tract_income',axis=1)"
   ]
  },
  {
   "cell_type": "markdown",
   "metadata": {},
   "source": [
    "# Statistical Modeling"
   ]
  },
  {
   "cell_type": "code",
   "execution_count": 22,
   "metadata": {},
   "outputs": [
    {
     "name": "stderr",
     "output_type": "stream",
     "text": [
      "/anaconda3/lib/python3.6/site-packages/sklearn/ensemble/weight_boosting.py:29: DeprecationWarning: numpy.core.umath_tests is an internal NumPy module and should not be imported. It will be removed in a future NumPy release.\n",
      "  from numpy.core.umath_tests import inner1d\n",
      "/anaconda3/lib/python3.6/site-packages/sklearn/cross_validation.py:41: DeprecationWarning: This module was deprecated in version 0.18 in favor of the model_selection module into which all the refactored classes and functions are moved. Also note that the interface of the new CV iterators are different from that of this module. This module will be removed in 0.20.\n",
      "  \"This module will be removed in 0.20.\", DeprecationWarning)\n"
     ]
    }
   ],
   "source": [
    "#Importing required libraries\n",
    "from sklearn import metrics\n",
    "from sklearn.tree import DecisionTreeClassifier\n",
    "from sklearn.linear_model import LogisticRegression\n",
    "from sklearn.ensemble import RandomForestClassifier\n",
    "from sklearn.ensemble import AdaBoostClassifier\n",
    "from sklearn.ensemble import BaggingClassifier\n",
    "from sklearn.ensemble import VotingClassifier\n",
    "from sklearn.model_selection import cross_val_score, RandomizedSearchCV, GridSearchCV\n",
    "from sklearn.cross_validation import train_test_split\n",
    "import time\n",
    "from sklearn.metrics import roc_curve, auc"
   ]
  },
  {
   "cell_type": "code",
   "execution_count": 23,
   "metadata": {},
   "outputs": [],
   "source": [
    "X=demographics.drop('is_registered_democrat',axis=1)\n",
    "y=demographics.is_registered_democrat"
   ]
  },
  {
   "cell_type": "code",
   "execution_count": 24,
   "metadata": {},
   "outputs": [
    {
     "data": {
      "text/plain": [
       "0       0.0\n",
       "1       0.0\n",
       "2       0.0\n",
       "3       1.0\n",
       "4       0.0\n",
       "5       1.0\n",
       "6       0.0\n",
       "7       1.0\n",
       "8       0.0\n",
       "9       1.0\n",
       "10      0.0\n",
       "11      0.0\n",
       "12      0.0\n",
       "13      0.0\n",
       "14      0.0\n",
       "15      0.0\n",
       "16      0.0\n",
       "17      0.0\n",
       "18      0.0\n",
       "19      0.0\n",
       "20      0.0\n",
       "21      0.0\n",
       "22      1.0\n",
       "23      0.0\n",
       "24      0.0\n",
       "25      1.0\n",
       "26      0.0\n",
       "27      0.0\n",
       "28      1.0\n",
       "29      0.0\n",
       "       ... \n",
       "9507    1.0\n",
       "9508    0.0\n",
       "9509    1.0\n",
       "9510    1.0\n",
       "9511    0.0\n",
       "9512    1.0\n",
       "9513    1.0\n",
       "9514    0.0\n",
       "9515    0.0\n",
       "9516    1.0\n",
       "9517    0.0\n",
       "9518    0.0\n",
       "9519    0.0\n",
       "9520    0.0\n",
       "9521    1.0\n",
       "9522    1.0\n",
       "9523    1.0\n",
       "9524    0.0\n",
       "9525    1.0\n",
       "9526    1.0\n",
       "9527    0.0\n",
       "9528    1.0\n",
       "9529    1.0\n",
       "9530    0.0\n",
       "9531    0.0\n",
       "9532    0.0\n",
       "9533    0.0\n",
       "9534    0.0\n",
       "9535    1.0\n",
       "9536    0.0\n",
       "Name: is_registered_democrat, Length: 9537, dtype: float64"
      ]
     },
     "execution_count": 24,
     "metadata": {},
     "output_type": "execute_result"
    }
   ],
   "source": [
    "y"
   ]
  },
  {
   "cell_type": "code",
   "execution_count": 25,
   "metadata": {},
   "outputs": [],
   "source": [
    "# Divide data to train and test \n",
    "#A stratified split means the proportion of split is according to the proportion of classes in the actual response\n",
    "X_train, X_test,y_train, y_test = train_test_split(X,y,test_size=0.30,random_state=27,stratify=y)"
   ]
  },
  {
   "cell_type": "markdown",
   "metadata": {},
   "source": [
    "# Logistic Regression"
   ]
  },
  {
   "cell_type": "code",
   "execution_count": 26,
   "metadata": {},
   "outputs": [
    {
     "name": "stdout",
     "output_type": "stream",
     "text": [
      "0.6703548431396484\n"
     ]
    }
   ],
   "source": [
    "import matplotlib.pyplot as plt\n",
    "import time\n",
    "log = LogisticRegression()\n",
    "\n",
    "params = {'C':[0.01,0.1,1,10]}\n",
    "\n",
    "loggrid = GridSearchCV(estimator=log,param_grid=params,cv=5,scoring='accuracy')\n",
    "\n",
    "start = time.time()\n",
    "loggrid.fit(X_train,y_train)\n",
    "end = time.time()\n",
    "print(end-start)"
   ]
  },
  {
   "cell_type": "code",
   "execution_count": 255,
   "metadata": {},
   "outputs": [
    {
     "data": {
      "image/png": "[encoded data removed]",
      "text/plain": [
       "<Figure size 432x288 with 1 Axes>"
      ]
     },
     "metadata": {},
     "output_type": "display_data"
    },
    {
     "name": "stdout",
     "output_type": "stream",
     "text": [
      "Auc: 0.7150569277031021\n"
     ]
    }
   ],
   "source": [
    "#Our metric of accuracy is AUC of the ROC Curve\n",
    "y_pred = loggrid.best_estimator_.predict_proba(X_test)\n",
    "false_positive_rate, true_positive_rate, thresholds = roc_curve(y_test, y_pred[:,1])\n",
    "roc_auc = auc(false_positive_rate, true_positive_rate)\n",
    "plt.title('Logistic ROC')\n",
    "plt.plot(false_positive_rate, true_positive_rate, 'b',\n",
    "label='AUC = %0.2f'% roc_auc)\n",
    "plt.legend(loc='lower right')\n",
    "plt.plot([0,1],[0,1],'r--')\n",
    "plt.xlim([-0.1,1.2])\n",
    "plt.ylim([-0.1,1.2])\n",
    "plt.ylabel('True Positive Rate')\n",
    "plt.xlabel('False Positive Rate')\n",
    "plt.show()\n",
    "print('Auc:',roc_auc)"
   ]
  },
  {
   "cell_type": "markdown",
   "metadata": {},
   "source": [
    "# Random Forest Classifier"
   ]
  },
  {
   "cell_type": "code",
   "execution_count": 27,
   "metadata": {},
   "outputs": [],
   "source": [
    "from sklearn.model_selection import RandomizedSearchCV\n",
    "from sklearn.ensemble import RandomForestRegressor\n",
    "# Number of trees in the Forest\n",
    "n_estimators = [int(x) for x in np.linspace(start = 200, stop = 2000, num = 10)]\n",
    "\n",
    "# Number of features to consider at every split\n",
    "max_features = ['auto', 'sqrt']\n",
    "\n",
    "# Maximum number of levels in tree\n",
    "max_depth = [int(x) for x in np.linspace(10, 110, num = 11)]\n",
    "max_depth.append(None)\n",
    "\n",
    "#Minimum number of samples required to split a node\n",
    "min_samples_split = [2, 5, 10]\n",
    "\n",
    "#Minimum number of samples required at each leaf node\n",
    "min_samples_leaf = [1, 2, 4]\n",
    "\n",
    "# Method of selecting samples for training each tree\n",
    "bootstrap = [True, False]"
   ]
  },
  {
   "cell_type": "code",
   "execution_count": 28,
   "metadata": {},
   "outputs": [],
   "source": [
    "rf=RandomForestClassifier()\n",
    "rf_hyperparam_grid = {'n_estimators': n_estimators,\n",
    "               'max_features': max_features,\n",
    "               'max_depth': max_depth,\n",
    "               'min_samples_split': min_samples_split,\n",
    "               'min_samples_leaf': min_samples_leaf,\n",
    "               'bootstrap': bootstrap}"
   ]
  },
  {
   "cell_type": "code",
   "execution_count": 29,
   "metadata": {},
   "outputs": [],
   "source": [
    "rfgrid = RandomizedSearchCV(estimator=rf,\n",
    "                            param_distributions=rf_hyperparam_grid,\n",
    "                            cv=5,scoring='accuracy',\n",
    "                            n_iter=3, \n",
    "                            random_state=27,\n",
    "                            n_jobs = -1,\n",
    "                           verbose=2)\n"
   ]
  },
  {
   "cell_type": "code",
   "execution_count": 30,
   "metadata": {},
   "outputs": [
    {
     "name": "stdout",
     "output_type": "stream",
     "text": [
      "Fitting 5 folds for each of 3 candidates, totalling 15 fits\n",
      "[CV] n_estimators=1800, min_samples_split=5, min_samples_leaf=4, max_features=sqrt, max_depth=90, bootstrap=False \n",
      "[CV] n_estimators=1800, min_samples_split=5, min_samples_leaf=4, max_features=sqrt, max_depth=90, bootstrap=False \n",
      "[CV] n_estimators=1800, min_samples_split=5, min_samples_leaf=4, max_features=sqrt, max_depth=90, bootstrap=False \n",
      "[CV] n_estimators=1800, min_samples_split=5, min_samples_leaf=4, max_features=sqrt, max_depth=90, bootstrap=False \n",
      "[CV]  n_estimators=1800, min_samples_split=5, min_samples_leaf=4, max_features=sqrt, max_depth=90, bootstrap=False, total=  24.6s\n",
      "[CV] n_estimators=1800, min_samples_split=5, min_samples_leaf=4, max_features=sqrt, max_depth=90, bootstrap=False \n",
      "[CV]  n_estimators=1800, min_samples_split=5, min_samples_leaf=4, max_features=sqrt, max_depth=90, bootstrap=False, total=  24.8s\n",
      "[CV] n_estimators=600, min_samples_split=5, min_samples_leaf=2, max_features=sqrt, max_depth=100, bootstrap=False \n",
      "[CV]  n_estimators=1800, min_samples_split=5, min_samples_leaf=4, max_features=sqrt, max_depth=90, bootstrap=False, total=  25.0s\n",
      "[CV]  n_estimators=1800, min_samples_split=5, min_samples_leaf=4, max_features=sqrt, max_depth=90, bootstrap=False, total=  24.9s\n",
      "[CV] n_estimators=600, min_samples_split=5, min_samples_leaf=2, max_features=sqrt, max_depth=100, bootstrap=False \n",
      "[CV] n_estimators=600, min_samples_split=5, min_samples_leaf=2, max_features=sqrt, max_depth=100, bootstrap=False \n",
      "[CV]  n_estimators=600, min_samples_split=5, min_samples_leaf=2, max_features=sqrt, max_depth=100, bootstrap=False, total=   7.6s\n",
      "[CV] n_estimators=600, min_samples_split=5, min_samples_leaf=2, max_features=sqrt, max_depth=100, bootstrap=False \n",
      "[CV]  n_estimators=600, min_samples_split=5, min_samples_leaf=2, max_features=sqrt, max_depth=100, bootstrap=False, total=   7.6s\n",
      "[CV] n_estimators=600, min_samples_split=5, min_samples_leaf=2, max_features=sqrt, max_depth=100, bootstrap=False \n",
      "[CV]  n_estimators=600, min_samples_split=5, min_samples_leaf=2, max_features=sqrt, max_depth=100, bootstrap=False, total=   7.7s\n",
      "[CV] n_estimators=1600, min_samples_split=2, min_samples_leaf=1, max_features=sqrt, max_depth=None, bootstrap=False \n",
      "[CV]  n_estimators=600, min_samples_split=5, min_samples_leaf=2, max_features=sqrt, max_depth=100, bootstrap=False, total=   7.9s\n",
      "[CV] n_estimators=1600, min_samples_split=2, min_samples_leaf=1, max_features=sqrt, max_depth=None, bootstrap=False \n",
      "[CV]  n_estimators=600, min_samples_split=5, min_samples_leaf=2, max_features=sqrt, max_depth=100, bootstrap=False, total=   8.2s\n",
      "[CV] n_estimators=1600, min_samples_split=2, min_samples_leaf=1, max_features=sqrt, max_depth=None, bootstrap=False \n",
      "[CV]  n_estimators=1800, min_samples_split=5, min_samples_leaf=4, max_features=sqrt, max_depth=90, bootstrap=False, total=  22.5s\n",
      "[CV] n_estimators=1600, min_samples_split=2, min_samples_leaf=1, max_features=sqrt, max_depth=None, bootstrap=False \n",
      "[CV]  n_estimators=1600, min_samples_split=2, min_samples_leaf=1, max_features=sqrt, max_depth=None, bootstrap=False, total=  22.7s\n",
      "[CV] n_estimators=1600, min_samples_split=2, min_samples_leaf=1, max_features=sqrt, max_depth=None, bootstrap=False \n",
      "[CV]  n_estimators=1600, min_samples_split=2, min_samples_leaf=1, max_features=sqrt, max_depth=None, bootstrap=False, total=  22.2s\n",
      "[CV]  n_estimators=1600, min_samples_split=2, min_samples_leaf=1, max_features=sqrt, max_depth=None, bootstrap=False, total=  22.1s\n",
      "[CV]  n_estimators=1600, min_samples_split=2, min_samples_leaf=1, max_features=sqrt, max_depth=None, bootstrap=False, total=  21.1s\n",
      "[CV]  n_estimators=1600, min_samples_split=2, min_samples_leaf=1, max_features=sqrt, max_depth=None, bootstrap=False, total=  17.9s\n"
     ]
    },
    {
     "name": "stderr",
     "output_type": "stream",
     "text": [
      "[Parallel(n_jobs=-1)]: Done  15 out of  15 | elapsed:  1.3min finished\n"
     ]
    }
   ],
   "source": [
    "# Fit the random forest model\n",
    "start=time.time()\n",
    "rfgrid.fit(X_train, y_train)\n",
    "end=time.time()"
   ]
  },
  {
   "cell_type": "code",
   "execution_count": 31,
   "metadata": {},
   "outputs": [
    {
     "name": "stdout",
     "output_type": "stream",
     "text": [
      "Number of seconds: 96.3785331249237\n"
     ]
    }
   ],
   "source": [
    "print('Number of seconds:',end-start)"
   ]
  },
  {
   "cell_type": "code",
   "execution_count": 32,
   "metadata": {},
   "outputs": [],
   "source": [
    "y_pred = rfgrid.best_estimator_.predict_proba(X_test)"
   ]
  },
  {
   "cell_type": "code",
   "execution_count": 33,
   "metadata": {},
   "outputs": [
    {
     "data": {
      "image/png": "[encoded data removed]",
      "text/plain": [
       "<Figure size 432x288 with 1 Axes>"
      ]
     },
     "metadata": {},
     "output_type": "display_data"
    },
    {
     "name": "stdout",
     "output_type": "stream",
     "text": [
      "Auc: 0.7841334909661004\n"
     ]
    }
   ],
   "source": [
    "false_positive_rate, true_positive_rate, thresholds = roc_curve(y_test, y_pred[:,1])\n",
    "roc_auc = auc(false_positive_rate, true_positive_rate)\n",
    "plt.title('RF ROC')\n",
    "plt.plot(false_positive_rate, true_positive_rate, 'b',\n",
    "label='AUC = %0.2f'% roc_auc)\n",
    "plt.legend(loc='lower right')\n",
    "plt.plot([0,1],[0,1],'r--')\n",
    "plt.xlim([-0.1,1.2])\n",
    "plt.ylim([-0.1,1.2])\n",
    "plt.ylabel('True Positive Rate')\n",
    "plt.xlabel('False Positive Rate')\n",
    "plt.show()\n",
    "print('Auc:',roc_auc)"
   ]
  },
  {
   "cell_type": "markdown",
   "metadata": {},
   "source": [
    "# Bagging Classifier"
   ]
  },
  {
   "cell_type": "code",
   "execution_count": 39,
   "metadata": {},
   "outputs": [],
   "source": [
    "from sklearn.ensemble import BaggingClassifier"
   ]
  },
  {
   "cell_type": "code",
   "execution_count": 42,
   "metadata": {},
   "outputs": [],
   "source": [
    "# Setting Base estimator as our besr RF estimator model\n",
    "bag=BaggingClassifier()\n",
    "params = {'n_estimators':[20,30,40,400,600,800,1000]}\n",
    "baggrid = RandomizedSearchCV(estimator=bag,param_distributions=params,cv=5,scoring='accuracy',n_iter=1,verbose=2,n_jobs=-1)\n"
   ]
  },
  {
   "cell_type": "code",
   "execution_count": 43,
   "metadata": {},
   "outputs": [
    {
     "name": "stdout",
     "output_type": "stream",
     "text": [
      "Fitting 5 folds for each of 1 candidates, totalling 5 fits\n",
      "[CV] n_estimators=400 ................................................\n",
      "[CV] n_estimators=400 ................................................\n",
      "[CV] n_estimators=400 ................................................\n",
      "[CV] n_estimators=400 ................................................\n",
      "[CV] ................................. n_estimators=400, total=  10.3s\n",
      "[CV] ................................. n_estimators=400, total=  10.4s\n",
      "[CV] n_estimators=400 ................................................\n",
      "[CV] ................................. n_estimators=400, total=  10.3s\n",
      "[CV] ................................. n_estimators=400, total=  10.4s\n",
      "[CV] ................................. n_estimators=400, total=   6.4s\n"
     ]
    },
    {
     "name": "stderr",
     "output_type": "stream",
     "text": [
      "[Parallel(n_jobs=-1)]: Done   5 out of   5 | elapsed:   17.8s finished\n"
     ]
    },
    {
     "data": {
      "text/plain": [
       "RandomizedSearchCV(cv=5, error_score='raise',\n",
       "          estimator=BaggingClassifier(base_estimator=None, bootstrap=True,\n",
       "         bootstrap_features=False, max_features=1.0, max_samples=1.0,\n",
       "         n_estimators=10, n_jobs=1, oob_score=False, random_state=None,\n",
       "         verbose=0, warm_start=False),\n",
       "          fit_params=None, iid=True, n_iter=1, n_jobs=-1,\n",
       "          param_distributions={'n_estimators': [20, 30, 40, 400, 600, 800, 1000]},\n",
       "          pre_dispatch='2*n_jobs', random_state=None, refit=True,\n",
       "          return_train_score='warn', scoring='accuracy', verbose=2)"
      ]
     },
     "execution_count": 43,
     "metadata": {},
     "output_type": "execute_result"
    }
   ],
   "source": [
    "baggrid.fit(X_train,y_train)"
   ]
  },
  {
   "cell_type": "code",
   "execution_count": 44,
   "metadata": {
    "scrolled": true
   },
   "outputs": [
    {
     "data": {
      "image/png": "[encoded data removed]",
      "text/plain": [
       "<Figure size 432x288 with 1 Axes>"
      ]
     },
     "metadata": {},
     "output_type": "display_data"
    },
    {
     "name": "stdout",
     "output_type": "stream",
     "text": [
      "Auc: 0.7753810172453675\n"
     ]
    }
   ],
   "source": [
    "y_pred = baggrid.best_estimator_.predict_proba(X_test)\n",
    "false_positive_rate, true_positive_rate, thresholds = roc_curve(y_test, y_pred[:,1])\n",
    "roc_auc = auc(false_positive_rate, true_positive_rate)\n",
    "plt.title('Bagged ROC')\n",
    "plt.plot(false_positive_rate, true_positive_rate, 'b',\n",
    "label='AUC = %0.2f'% roc_auc)\n",
    "plt.legend(loc='lower right')\n",
    "plt.plot([0,1],[0,1],'r--')\n",
    "plt.xlim([-0.1,1.2])\n",
    "plt.ylim([-0.1,1.2])\n",
    "plt.ylabel('True Positive Rate')\n",
    "plt.xlabel('False Positive Rate')\n",
    "plt.show()\n",
    "print('Auc:',roc_auc)"
   ]
  },
  {
   "cell_type": "markdown",
   "metadata": {},
   "source": [
    "# Adaboost Classifier"
   ]
  },
  {
   "cell_type": "code",
   "execution_count": 48,
   "metadata": {},
   "outputs": [
    {
     "data": {
      "text/plain": [
       "-50.00375509262085"
      ]
     },
     "execution_count": 48,
     "metadata": {},
     "output_type": "execute_result"
    }
   ],
   "source": [
    "start=time.time()\n",
    "abc = AdaBoostClassifier(base_estimator=rfgrid.best_estimator_,n_estimators=4)\n",
    "abc.fit(X_train,y_train)\n",
    "end=time.time()\n",
    "start-end"
   ]
  },
  {
   "cell_type": "code",
   "execution_count": 50,
   "metadata": {},
   "outputs": [
    {
     "name": "stdout",
     "output_type": "stream",
     "text": [
      "Fitting 5 folds for each of 3 candidates, totalling 15 fits\n",
      "[CV] n_estimators=2 ..................................................\n",
      "[CV] n_estimators=2 ..................................................\n",
      "[CV] n_estimators=2 ..................................................\n",
      "[CV] n_estimators=2 ..................................................\n",
      "[CV] ................................... n_estimators=2, total= 1.2min\n",
      "[CV] ................................... n_estimators=2, total= 1.2min\n",
      "[CV] n_estimators=2 ..................................................\n",
      "[CV] n_estimators=3 ..................................................\n",
      "[CV] ................................... n_estimators=2, total= 1.2min\n",
      "[CV] n_estimators=3 ..................................................\n",
      "[CV] ................................... n_estimators=2, total= 1.2min\n",
      "[CV] n_estimators=3 ..................................................\n",
      "[CV] ................................... n_estimators=3, total= 1.3min\n",
      "[CV] n_estimators=3 ..................................................\n",
      "[CV] ................................... n_estimators=2, total= 1.3min\n",
      "[CV] ................................... n_estimators=3, total= 1.3min\n",
      "[CV] ................................... n_estimators=3, total= 1.3min\n",
      "[CV] n_estimators=3 ..................................................\n",
      "[CV] n_estimators=4 ..................................................\n",
      "[CV] n_estimators=4 ..................................................\n",
      "[CV] ................................... n_estimators=4, total= 1.3min\n",
      "[CV] n_estimators=4 ..................................................\n",
      "[CV] ................................... n_estimators=3, total= 1.3min\n",
      "[CV] n_estimators=4 ..................................................\n",
      "[CV] ................................... n_estimators=3, total= 1.3min\n",
      "[CV] ................................... n_estimators=4, total= 1.3min\n",
      "[CV] n_estimators=4 ..................................................\n",
      "[CV] ................................... n_estimators=4, total= 1.0min\n",
      "[CV] ................................... n_estimators=4, total= 1.0min\n",
      "[CV] ................................... n_estimators=4, total= 1.0min\n"
     ]
    },
    {
     "name": "stderr",
     "output_type": "stream",
     "text": [
      "[Parallel(n_jobs=-1)]: Done  15 out of  15 | elapsed:  5.2min finished\n"
     ]
    },
    {
     "data": {
      "text/plain": [
       "RandomizedSearchCV(cv=5, error_score='raise',\n",
       "          estimator=AdaBoostClassifier(algorithm='SAMME.R',\n",
       "          base_estimator=RandomForestClassifier(bootstrap=False, class_weight=None, criterion='gini',\n",
       "            max_depth=90, max_features='sqrt', max_leaf_nodes=None,\n",
       "            min_impurity_decrease=0.0, min_impurity_split=None,\n",
       "            min_...se=0,\n",
       "            warm_start=False),\n",
       "          learning_rate=1.0, n_estimators=4, random_state=None),\n",
       "          fit_params=None, iid=True, n_iter=3, n_jobs=-1,\n",
       "          param_distributions={'n_estimators': [2, 3, 4]},\n",
       "          pre_dispatch='2*n_jobs', random_state=None, refit=True,\n",
       "          return_train_score='warn', scoring='accuracy', verbose=2)"
      ]
     },
     "execution_count": 50,
     "metadata": {},
     "output_type": "execute_result"
    }
   ],
   "source": [
    "params = {'n_estimators':[2,3,4]}\n",
    "abcgrid = RandomizedSearchCV(estimator = abc, param_distributions= params, cv=5, scoring='accuracy',n_iter=3,verbose=2,n_jobs=-1)\n",
    "abcgrid.fit(X_train,y_train)"
   ]
  },
  {
   "cell_type": "code",
   "execution_count": 52,
   "metadata": {},
   "outputs": [
    {
     "data": {
      "image/png": "[encoded data removed]",
      "text/plain": [
       "<Figure size 432x288 with 1 Axes>"
      ]
     },
     "metadata": {},
     "output_type": "display_data"
    },
    {
     "name": "stdout",
     "output_type": "stream",
     "text": [
      "Auc: 0.7817799223829963\n"
     ]
    }
   ],
   "source": [
    "y_pred = abcgrid.best_estimator_.predict_proba(X_test)\n",
    "false_positive_rate, true_positive_rate, thresholds = roc_curve(y_test, y_pred[:,1])\n",
    "roc_auc = auc(false_positive_rate, true_positive_rate)\n",
    "plt.title('AdaBoost ROC')\n",
    "plt.plot(false_positive_rate, true_positive_rate, 'b',\n",
    "label='AUC = %0.2f'% roc_auc)\n",
    "plt.legend(loc='lower right')\n",
    "plt.plot([0,1],[0,1],'r--')\n",
    "plt.xlim([-0.1,1.2])\n",
    "plt.ylim([-0.1,1.2])\n",
    "plt.ylabel('True Positive Rate')\n",
    "plt.xlabel('False Positive Rate')\n",
    "plt.show()\n",
    "print('Auc:',roc_auc)"
   ]
  },
  {
   "cell_type": "code",
   "execution_count": 54,
   "metadata": {},
   "outputs": [
    {
     "name": "stdout",
     "output_type": "stream",
     "text": [
      "hh_id : 0.108853790317194\n",
      "person_id : 0.11119102551937693\n",
      "is_head_of_household : 0.03250034581621743\n",
      "age : 0.20458026262651008\n",
      "voted_in_2012 : 0.029811496199979644\n",
      "is_college_graduate : 0.047625792472157154\n",
      "hh_income : 0.11955509393408743\n",
      "is_urban : 0.01725003168020881\n",
      "is_owner_of_home : 0.010169016245433012\n",
      "av_income : 0.20189751600627254\n",
      "Female : 0.017291892733988855\n",
      "Married : 0.013206656115675692\n",
      "Asian : 0.011338861269893055\n",
      "Black : 0.013711071981039399\n",
      "Bottom : 0.045815117089989275\n",
      "Middle : 0.015202029991977445\n"
     ]
    }
   ],
   "source": [
    "# Get importance values\n",
    "for i in range(0,len(X_train.columns)):\n",
    "    print(X_train.columns[i],':',rfgrid.best_estimator_.feature_importances_[i])"
   ]
  }
 ],
 "metadata": {
  "kernelspec": {
   "display_name": "Python 3",
   "language": "python",
   "name": "python3"
  },
  "language_info": {
   "codemirror_mode": {
    "name": "ipython",
    "version": 3
   },
   "file_extension": ".py",
   "mimetype": "text/x-python",
   "name": "python",
   "nbconvert_exporter": "python",
   "pygments_lexer": "ipython3",
   "version": "3.6.5"
  }
 },
 "nbformat": 4,
 "nbformat_minor": 2
}
